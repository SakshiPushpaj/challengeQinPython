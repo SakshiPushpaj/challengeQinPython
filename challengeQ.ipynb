{
  "nbformat": 4,
  "nbformat_minor": 0,
  "metadata": {
    "colab": {
      "provenance": [],
      "toc_visible": true,
      "authorship_tag": "ABX9TyN8XwAWiV1jxo4V33uykKp6",
      "include_colab_link": true
    },
    "kernelspec": {
      "name": "python3",
      "display_name": "Python 3"
    },
    "language_info": {
      "name": "python"
    }
  },
  "cells": [
    {
      "cell_type": "markdown",
      "metadata": {
        "id": "view-in-github",
        "colab_type": "text"
      },
      "source": [
        "<a href=\"https://colab.research.google.com/github/SakshiPushpaj/challengeQinPython/blob/main/challengeQ.ipynb\" target=\"_parent\"><img src=\"https://colab.research.google.com/assets/colab-badge.svg\" alt=\"Open In Colab\"/></a>"
      ]
    },
    {
      "cell_type": "code",
      "execution_count": 4,
      "metadata": {
        "colab": {
          "base_uri": "https://localhost:8080/"
        },
        "id": "_A_qlsDOcZ8Y",
        "outputId": "8bbacb4a-0c1b-443d-f6e1-179b60651664"
      },
      "outputs": [
        {
          "output_type": "stream",
          "name": "stdout",
          "text": [
            "list-> ['ram', 3, 'shyam', 2]\n",
            "Sorted data: [2, 3, 'ram', 'shyam']\n"
          ]
        }
      ],
      "source": [
        "L=['ram',3,'shyam',2]\n",
        "print(\"list->\",L)\n",
        "\n",
        "\n",
        "# Define a custom key function\n",
        "def custom_key(element):\n",
        "    # Check the type of the element and return a tuple that Python can sort\n",
        "    if isinstance(element, int):\n",
        "        return (1, element)  # Numbers first, by their value\n",
        "    elif isinstance(element, float):\n",
        "        return (2, element)  # Floats next, by their value\n",
        "    elif isinstance(element, str):\n",
        "        return (3, element)  # Strings last, lexicographically\n",
        "    else:\n",
        "        return (4, str(element))  # Any other types, convert to string and sort\n",
        "\n",
        "# Sort the list using the custom key function\n",
        "sorted_data = sorted(L, key=custom_key)\n",
        "\n",
        "print(\"Sorted data:\", sorted_data)"
      ]
    }
  ]
}